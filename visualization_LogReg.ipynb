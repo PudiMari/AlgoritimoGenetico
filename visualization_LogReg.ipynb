{
 "cells": [
  {
   "cell_type": "code",
   "execution_count": null,
   "id": "initial_id",
   "metadata": {
    "ExecuteTime": {
     "end_time": "2023-10-31T22:22:31.467170400Z",
     "start_time": "2023-10-31T22:22:31.460526100Z"
    }
   },
   "outputs": [],
   "source": [
    "import pandas as pd\n",
    "import seaborn as sns\n",
    "import numpy as np\n",
    "import matplotlib.pyplot as plt\n",
    "from lime.lime_tabular import LimeTabularExplainer\n",
    "from sklearn.ensemble import RandomForestClassifier\n",
    "from sklearn.manifold import TSNE\n",
    "from sklearn.preprocessing import OneHotEncoder\n",
    "from lime import lime_tabular\n",
    "from sklearn.model_selection import train_test_split\n",
    "\n",
    "import pandas as pd\n",
    "from sklearn.linear_model import LogisticRegression\n",
    "from sklearn.model_selection import train_test_split\n",
    "from sklearn.ensemble import RandomForestClassifier\n",
    "from sklearn.model_selection import cross_val_score\n",
    "from sklearn.ensemble import AdaBoostClassifier\n",
    "from sklearn.neighbors import KNeighborsClassifier\n",
    "from sklearn.preprocessing import *\n",
    "from sklearn.impute import *\n",
    "from sklearn.pipeline import Pipeline\n",
    "from sklearn.feature_selection import *\n",
    "from deap import base, creator, tools, algorithms\n",
    "from datetime import datetime\n",
    "from sklearn.svm import SVC\n",
    "import warnings\n",
    "import numpy as np\n",
    "import random"
   ]
  },
  {
   "cell_type": "code",
   "execution_count": null,
   "id": "f3964b7d3b42bef4",
   "metadata": {
    "ExecuteTime": {
     "end_time": "2023-10-31T22:28:30.993452700Z",
     "start_time": "2023-10-31T22:28:30.970445500Z"
    },
    "collapsed": false,
    "jupyter": {
     "outputs_hidden": false
    }
   },
   "outputs": [],
   "source": [
    "df = pd.read_csv(\"arrhythmia.csv\", header=None).replace(\"?\", np.nan)\n",
    "data = df.to_numpy()\n",
    "x, y = data[:, :-1], data[:, -1]\n",
    "y = pd.Series(y).apply(str)\n",
    "x_train, x_test, y_train, y_test = train_test_split(x, y, train_size=0.8)\n",
    "values = df.iloc[:, -1].values\n",
    "\n",
    "# Calcula as estatísticas\n",
    "print(\"Máximo =\", np.max(values),\n",
    "  \"Mínimo =\", np.min(values),\n",
    "  \"Média =\", np.mean(values),\n",
    "  \"Mediana =\", np.median(values),\n",
    "  \"Desvio Padrão =\", np.std(values))"
   ]
  },
  {
   "cell_type": "code",
   "execution_count": null,
   "id": "b412c5ce-54e5-439e-ab06-a7671f82fa28",
   "metadata": {},
   "outputs": [],
   "source": [
    "x_train"
   ]
  },
  {
   "cell_type": "code",
   "execution_count": null,
   "id": "1fe87b8a75ea3459",
   "metadata": {
    "collapsed": false,
    "jupyter": {
     "outputs_hidden": false
    }
   },
   "outputs": [],
   "source": [
    "encoder = OneHotEncoder()\n",
    "encoder.fit(x_train)\n",
    "encoded_train = encoder.transform(x_train)\n",
    "rf = RandomForestClassifier()\n",
    "rf.fit(encoded_train, y_train)\n",
    "\n",
    "encoded_train"
   ]
  },
  {
   "cell_type": "code",
   "execution_count": null,
   "id": "edae803f1c47cfd7",
   "metadata": {
    "ExecuteTime": {
     "end_time": "2023-10-31T22:24:59.140311700Z",
     "start_time": "2023-10-31T22:24:59.132909Z"
    },
    "collapsed": false,
    "jupyter": {
     "outputs_hidden": false
    }
   },
   "outputs": [],
   "source": [
    "df = pd.read_csv(\"resultados_LogReg_4.csv\")\n",
    "df.head(5)"
   ]
  },
  {
   "cell_type": "code",
   "execution_count": null,
   "id": "c260757c546869a3",
   "metadata": {
    "ExecuteTime": {
     "end_time": "2023-10-31T21:47:42.361087200Z",
     "start_time": "2023-10-31T21:47:42.150942100Z"
    },
    "collapsed": false,
    "jupyter": {
     "outputs_hidden": false
    }
   },
   "outputs": [],
   "source": [
    "fig, ax = plt.subplots()\n",
    "sns.kdeplot(df, x=\"f1\", ax=ax)\n",
    "ax.set_ylabel(\"Frequência\")\n",
    "ax.set_xlabel(\"Fitness\")\n",
    "fig.tight_layout()"
   ]
  },
  {
   "cell_type": "code",
   "execution_count": null,
   "id": "92d00c4c75e73951",
   "metadata": {
    "ExecuteTime": {
     "end_time": "2023-10-31T21:47:42.478176800Z",
     "start_time": "2023-10-31T21:47:42.323706400Z"
    },
    "collapsed": false,
    "jupyter": {
     "outputs_hidden": false
    }
   },
   "outputs": [],
   "source": [
    "sns.kdeplot(df, x=\"elapsed_time\")"
   ]
  },
  {
   "cell_type": "code",
   "execution_count": null,
   "id": "108696a6f16963d",
   "metadata": {
    "ExecuteTime": {
     "end_time": "2023-10-31T21:47:49.948703300Z",
     "start_time": "2023-10-31T21:47:42.476176500Z"
    },
    "collapsed": false,
    "jupyter": {
     "outputs_hidden": false
    }
   },
   "outputs": [],
   "source": [
    "#df.f1.value_counts()\n",
    "\n",
    "sns.pairplot( df, hue=\"f1\" )"
   ]
  },
  {
   "cell_type": "code",
   "execution_count": null,
   "id": "2c88a769998e03c3",
   "metadata": {
    "ExecuteTime": {
     "end_time": "2023-10-31T21:47:49.953933100Z",
     "start_time": "2023-10-31T21:47:49.948703300Z"
    },
    "collapsed": false,
    "jupyter": {
     "outputs_hidden": false
    }
   },
   "outputs": [],
   "source": [
    "X = df.to_numpy()[:, :-2]\n",
    "y = df[\"f1\"].astype(float)\n",
    "\n",
    "df.head(5)"
   ]
  },
  {
   "cell_type": "code",
   "execution_count": null,
   "id": "f02fcfe821df8eda",
   "metadata": {
    "ExecuteTime": {
     "end_time": "2023-10-31T21:47:49.959423700Z",
     "start_time": "2023-10-31T21:47:49.951724800Z"
    },
    "collapsed": false,
    "jupyter": {
     "outputs_hidden": false
    }
   },
   "outputs": [],
   "source": [
    "enc = OneHotEncoder(handle_unknown='ignore')\n",
    "enc.fit(X)\n",
    "X_encoded = enc.transform(X).toarray()\n",
    "\n",
    "X_encoded"
   ]
  },
  {
   "cell_type": "code",
   "execution_count": null,
   "id": "b7381b32d4d8404c",
   "metadata": {
    "ExecuteTime": {
     "end_time": "2023-10-31T21:47:50.209694600Z",
     "start_time": "2023-10-31T21:47:49.958197100Z"
    },
    "collapsed": false,
    "jupyter": {
     "outputs_hidden": false
    }
   },
   "outputs": [],
   "source": [
    "#t-SNE\n",
    "x_embedded = TSNE(n_components=2).fit_transform(X_encoded)\n",
    "\n",
    "x_embedded[:10]"
   ]
  },
  {
   "cell_type": "code",
   "execution_count": null,
   "id": "c9b26ca679da4cf9",
   "metadata": {
    "ExecuteTime": {
     "end_time": "2023-10-31T21:47:50.210694300Z",
     "start_time": "2023-10-31T21:47:50.199479800Z"
    },
    "collapsed": false,
    "jupyter": {
     "outputs_hidden": false
    }
   },
   "outputs": [],
   "source": [
    "x_embedded_f1 = np.column_stack((x_embedded, df['f1']))\n",
    "_df = pd.DataFrame(data=x_embedded_f1, columns=[\"x1\", \"x2\", \"y\"])\n",
    "_df.head(5)\n",
    "ax = sns.scatterplot(data=_df, x=\"x1\", y=\"x2\", hue=\"y\")\n",
    "\n",
    "# plot highest fitness\n",
    "coord = _df.loc[_df[\"y\"] == _df[\"y\"].max()]\n",
    "for i, row in coord.iterrows():\n",
    "    x, y = row[\"x1\"], row[\"x2\"]\n",
    "    ax.annotate(f\"Highest Score {row['y']:>.2f}\", (x, y), (x+1, y+1), arrowprops={\"width\": 3, \"headwidth\": 7, \"headlength\": 6}, backgroundcolor=\"yellow\")\n",
    "\n",
    "# plot lowest fitness\n",
    "coord = _df.loc[_df[\"y\"] == _df[\"y\"].min()]\n",
    "for i, row in coord.iterrows():\n",
    "    x, y = row[\"x1\"], row[\"x2\"]\n",
    "    ax.annotate(f\"Smallest Score {row['y']:>.2f}\", (x, y), (x+1, y+1), arrowprops={\"width\": 3, \"headwidth\": 7, \"headlength\": 6}, backgroundcolor=\"yellow\")"
   ]
  },
  {
   "cell_type": "code",
   "execution_count": null,
   "id": "2404f021-19ad-481c-a43b-691177a49ff3",
   "metadata": {},
   "outputs": [],
   "source": [
    "df.loc[df.f1 == df.f1.max()]"
   ]
  },
  {
   "cell_type": "code",
   "execution_count": null,
   "id": "b0f79554-7137-428a-ade9-95c3d41f8e84",
   "metadata": {
    "tags": []
   },
   "outputs": [],
   "source": [
    "df_X = pd.read_csv(\"arrhythmia.csv\", header=None).replace(\"?\", np.nan)\n",
    "df_X.shape"
   ]
  },
  {
   "cell_type": "code",
   "execution_count": null,
   "id": "32f4a8177a24e9aa",
   "metadata": {
    "ExecuteTime": {
     "end_time": "2023-10-31T22:29:13.232710Z",
     "start_time": "2023-10-31T22:29:13.090390200Z"
    },
    "collapsed": false,
    "jupyter": {
     "outputs_hidden": false
    }
   },
   "outputs": [],
   "source": [
    "# Usei esse site como exemplo: https://marcotcr.github.io/lime/tutorials/Tutorial%20-%20continuous%20and%20categorical%20features.html\n",
    "RANDOM_STATE = 42\n",
    "\n",
    "df_X = pd.read_csv(\"arrhythmia.csv\", names=list(map(lambda X: f\"col_{X}\", range(280)))).replace(\"?\", np.nan)\n",
    "data = df_X.to_numpy()\n",
    "X, y = data[:, :-1], data[:, -1]\n",
    "X = X.astype(float)\n",
    "y = pd.Series(y).astype(float)\n",
    "\n",
    "preprocess = Pipeline([\n",
    "        ('imputer', SimpleImputer(strategy=\"most_frequent\"))])\n",
    "\n",
    "pipeline = pipe = Pipeline([\n",
    "        ('imputer', SimpleImputer(strategy=\"most_frequent\")),\n",
    "        ('scaler', StandardScaler()),\n",
    "        ('feature-selection', SelectKBest(k=103)),\n",
    "        ('logReg', LogisticRegression(\n",
    "            penalty=None,\n",
    "            C=17,\n",
    "            solver=\"newton-cholesky\",\n",
    "            random_state=RANDOM_STATE))])\n",
    "\n",
    "pipeline.fit(X, y)\n",
    "X = preprocess.fit_transform(X, y)\n",
    "class_ = pipeline.classes_\n",
    "y_pred = pipeline.predict(X)\n",
    "\n",
    "explainer = LimeTabularExplainer(X,\n",
    "                                 feature_names=df_X.columns[:-1],\n",
    "                                 class_names=class_)\n",
    "\n",
    "for i, (y, yp) in enumerate(zip(y, y_pred)):\n",
    "    if y == yp:\n",
    "        print(f\"classe real: {y}, predição: {yp}\")\n",
    "        exp = explainer.explain_instance(X[i], pipeline.predict_proba)\n",
    "        exp.show_in_notebook(show_table=True, show_all=False)"
   ]
  },
  {
   "cell_type": "code",
   "execution_count": null,
   "id": "af2f104e843c4537",
   "metadata": {
    "ExecuteTime": {
     "end_time": "2023-10-31T21:47:50.337227200Z",
     "start_time": "2023-10-31T21:47:50.206695Z"
    },
    "collapsed": false,
    "jupyter": {
     "outputs_hidden": false
    }
   },
   "outputs": [],
   "source": [
    "#cria uma imagem 3D\n",
    "fig = plt.figure()\n",
    "ax = fig.add_subplot(projection='3d')\n",
    "\n",
    "X = x_embedded_f1[:, 0]\n",
    "Y = x_embedded_f1[:, 1]\n",
    "Z = x_embedded_f1[:, 2]\n",
    "\n",
    "#Arredondar os valores de X, Y e Z\n",
    "X = np.round(X, 2)\n",
    "Y = np.round(Y, 2)\n",
    "Z = np.round(Z, 2)\n",
    "\n",
    "ax.plot_trisurf(Y, X, Z, cmap='viridis', linewidth=0.2)\n",
    "ax.view_init(20, 75)\n",
    "\n",
    "plt.show()"
   ]
  },
  {
   "cell_type": "code",
   "execution_count": null,
   "id": "21dc55c4bf68113d",
   "metadata": {
    "ExecuteTime": {
     "end_time": "2023-10-31T21:47:50.483268600Z",
     "start_time": "2023-10-31T21:47:50.328551400Z"
    },
    "collapsed": false,
    "jupyter": {
     "outputs_hidden": false
    },
    "tags": []
   },
   "outputs": [],
   "source": [
    "#cria uma imagem 2D que mostre o Z evidente\n",
    "fig = plt.figure()\n",
    "ax = fig.add_subplot()\n",
    "\n",
    "X = x_embedded_f1[:, 0]\n",
    "Y = x_embedded_f1[:, 1]\n",
    "Z = x_embedded_f1[:, 2]\n",
    "\n",
    "#Arredondar os valores de X, Y e Z\n",
    "X = np.round(X, 2)\n",
    "Y = np.round(Y, 2)\n",
    "Z = np.round(Z, 2)\n",
    "\n",
    "scatter = ax.scatter(X, Y, c=Z, cmap='viridis', linewidth=0.2)\n",
    "\n",
    "#Definir os rótulos dos eixos\n",
    "ax.set_xlabel('Eixo X')\n",
    "ax.set_ylabel('Eixo Y')\n",
    "\n",
    "# Adicione uma barra de cores\n",
    "cbar = plt.colorbar(scatter)\n",
    "cbar.set_label('Valores de Z')\n",
    "\n",
    "plt.show()"
   ]
  }
 ],
 "metadata": {
  "kernelspec": {
   "display_name": "Python 3 (ipykernel)",
   "language": "python",
   "name": "python3"
  },
  "language_info": {
   "codemirror_mode": {
    "name": "ipython",
    "version": 3
   },
   "file_extension": ".py",
   "mimetype": "text/x-python",
   "name": "python",
   "nbconvert_exporter": "python",
   "pygments_lexer": "ipython3",
   "version": "3.11.5"
  }
 },
 "nbformat": 4,
 "nbformat_minor": 5
}
